{
 "cells": [
  {
   "cell_type": "code",
   "execution_count": 1,
   "id": "937038f5-cc1e-4efe-a2c0-72a4b5209b1a",
   "metadata": {},
   "outputs": [],
   "source": [
    "import telegram\n",
    "import xml.etree.ElementTree as et\n",
    "import requests as req"
   ]
  },
  {
   "cell_type": "code",
   "execution_count": 2,
   "id": "6b01c142-5232-4847-bd55-7ab4dc4b7640",
   "metadata": {},
   "outputs": [],
   "source": [
    "# 텔레그램 인증키 등록\n",
    "token = '2131981568:AAEeNzscHJkDMPHKd59X9tCvd-0UNckUx6c'"
   ]
  },
  {
   "cell_type": "code",
   "execution_count": 3,
   "id": "a23fcde8-ff78-4bee-82e6-15185d12d932",
   "metadata": {
    "tags": []
   },
   "outputs": [],
   "source": [
    "bot = telegram.Bot(token=token)"
   ]
  },
  {
   "cell_type": "markdown",
   "id": "45bc3344-e19d-44df-a71c-6f66c33daf19",
   "metadata": {},
   "source": [
    "### 미세먼지 정보 알리미 봇\n",
    "+ 미세먼지 : 죽음의 먼지, 잿빛 재앙, 은밀한 살인자 세계보건기구에 따르면, 2014년 기준, 전 세계에 약 700만명이 미세먼지로 인해 조기 사망\n",
    "\n",
    "+ 1930년 벨기에의 뮤즈 벨리, 1948년 미국 펜실베니아 주의 도노라, 1952년 런던 스모그 등 대규모 재난을 겪으며 대기오염이 건강에 막대한 피해를 끼칠수 있다는 사실을 인지함\n",
    "\n",
    "+ 먼지는 대기 중 떠다니거나 흩날려 내려오는 입자성 물질을 의미\n",
    "+ 대기오염 물질에는 가스상 물질과 입자성 물질이 존재\n",
    "\n",
    "+ 미세먼지, 초미세먼지는 입자상 물질을 크기별로 세분화한 것\n",
    "    - 1990년대에는 입자의 지름이 50마이크로미터 이하를 총먼지로 분류\n",
    "    - 2000년대에는 입자의 지름이 10마이크로미터 이하를 PM10으로 분류\n",
    "    - 2010년대에는 입자의 지름이 2.5마이크로미터 이하를 PM2.5로 분류\n",
    "        - 우리나라는 통상적으로 PM10을 미세먼지로\n",
    "    - PM2.5를 초미세먼지로 번역해 옴\n",
    "\n",
    "+ 한국환경공단이 제공하는 '대기오염정보 조회 서비스'를 통해\n",
    "+ XML/JSON 형태로 받아온 데이터를 분석\n",
    "+ 참고로 서울에는 총 25개의 구가 있음"
   ]
  },
  {
   "cell_type": "code",
   "execution_count": 4,
   "id": "37bca908-b606-40e0-ad87-3ecd4107ac34",
   "metadata": {},
   "outputs": [],
   "source": [
    "# url1 == xml // url2 == json\n",
    "url1 = 'http://apis.data.go.kr/B552584/ArpltnInforInqireSvc/getCtprvnRltmMesureDnsty?serviceKey=%2BpJJikYO7sLu5IRIGSVwrRhI2csJLgnXqbiIJsxf6n2g8HQ7IZwYWfBdGUhI5pclA093YhJpUyLroFhTYVfL8g%3D%3D&returnType=xml&numOfRows=100&pageNo=1&sidoName=%EC%84%9C%EC%9A%B8&ver=1.0'\n",
    "url2 = 'http://apis.data.go.kr/B552584/ArpltnInforInqireSvc/getCtprvnRltmMesureDnsty?serviceKey=%2BpJJikYO7sLu5IRIGSVwrRhI2csJLgnXqbiIJsxf6n2g8HQ7IZwYWfBdGUhI5pclA093YhJpUyLroFhTYVfL8g%3D%3D&returnType=json&numOfRows=100&pageNo=1&sidoName=%EC%84%9C%EC%9A%B8&ver=1.0'"
   ]
  },
  {
   "cell_type": "code",
   "execution_count": 5,
   "id": "d64bdb0f-65ca-475c-853b-8ec3b95e01a0",
   "metadata": {
    "tags": []
   },
   "outputs": [
    {
     "data": {
      "text/plain": [
       "'<?xml version=\"1.0\" encoding=\"UTF-8\"?>\\r\\n<response>\\n  <header>\\n    <resultCode>00</resultCode>\\n    <resultMsg>NORMAL_CODE</resultMsg>\\n  </header>\\n  <body>\\n    <items>\\n      <item>\\n        <so2Grade>1</so2Grade>\\n        <coFlag/>\\n        <khaiValue>47</khaiValue>\\n        <so2Value>0.003</so2Value>\\n        <coValue>0.3</coValue>\\n        <pm25Flag/>\\n        <pm10Flag/>\\n        <o3Grade>1</o3Grade>\\n        <pm10Value>32</pm10Value>\\n        <khaiGrade>1</khaiGrade>\\n        <pm25Value>8</pm25Value>\\n   '"
      ]
     },
     "execution_count": 5,
     "metadata": {},
     "output_type": "execute_result"
    }
   ],
   "source": [
    "# xml 지정한 url로 요청해서 결과 받음\n",
    "res = req.get(url1)\n",
    "res.text[:500]"
   ]
  },
  {
   "cell_type": "code",
   "execution_count": 6,
   "id": "d61899be-21df-447b-afb1-62feefbfe121",
   "metadata": {},
   "outputs": [],
   "source": [
    "# 받은 결과를 파일로 저장\n",
    "with open('/home/hadoop/telegram/air.xml','w',encoding='UTF-8') as f:\n",
    "    f.writelines(res.text)"
   ]
  },
  {
   "cell_type": "code",
   "execution_count": 7,
   "id": "e9a06c3c-a885-45e8-8954-8146e0722bac",
   "metadata": {},
   "outputs": [],
   "source": [
    "# xml 파일 읽어 XML 분석하고 DOM 트리를 구축함\n",
    "tree = et.parse('/home/hadoop/telegram/air.xml')\n",
    "root = tree.getroot()"
   ]
  },
  {
   "cell_type": "code",
   "execution_count": 8,
   "id": "cad5d326-0750-46d7-9b61-f6c7ed378461",
   "metadata": {
    "tags": []
   },
   "outputs": [
    {
     "name": "stdout",
     "output_type": "stream",
     "text": [
      "2021-11-23 12:00 강남구 32 8\n",
      "2021-11-23 12:00 서초구 47 9\n",
      "2021-11-23 12:00 도산대로 42 8\n",
      "2021-11-23 12:00 강남대로 39 9\n",
      "2021-11-23 12:00 송파구 38 8\n",
      "2021-11-23 12:00 강동구 36 9\n",
      "2021-11-23 12:00 천호대로 43 10\n",
      "2021-11-23 12:00 금천구 38 10\n",
      "2021-11-23 12:00 시흥대로 - -\n",
      "2021-11-23 12:00 강북구 46 11\n",
      "2021-11-23 12:00 양천구 39 11\n",
      "2021-11-23 12:00 노원구 34 6\n",
      "2021-11-23 12:00 화랑로 31 8\n",
      "2021-11-23 12:00 중구 33 9\n",
      "2021-11-23 12:00 한강대로 37 8\n",
      "2021-11-23 12:00 종로구 39 11\n",
      "2021-11-23 12:00 청계천로 35 10\n",
      "2021-11-23 12:00 종로 45 10\n",
      "2021-11-23 12:00 용산구 42 13\n",
      "2021-11-23 12:00 광진구 35 9\n",
      "2021-11-23 12:00 성동구 39 8\n",
      "2021-11-23 12:00 강변북로 44 9\n",
      "2021-11-23 12:00 중랑구 36 8\n",
      "2021-11-23 12:00 동대문구 35 9\n",
      "2021-11-23 12:00 홍릉로 40 10\n",
      "2021-11-23 12:00 성북구 38 9\n",
      "2021-11-23 12:00 정릉로 38 11\n",
      "2021-11-23 12:00 도봉구 38 7\n",
      "2021-11-23 12:00 은평구 45 10\n",
      "2021-11-23 12:00 서대문구 43 9\n",
      "2021-11-23 12:00 마포구 39 11\n",
      "2021-11-23 12:00 신촌로 33 8\n",
      "2021-11-23 12:00 강서구 39 7\n",
      "2021-11-23 12:00 공항대로 43 14\n",
      "2021-11-23 12:00 구로구 38 5\n",
      "2021-11-23 12:00 영등포구 34 8\n",
      "2021-11-23 12:00 영등포로 34 9\n",
      "2021-11-23 12:00 동작구 38 10\n",
      "2021-11-23 12:00 동작대로 중앙차로 42 21\n",
      "2021-11-23 12:00 관악구 34 9\n"
     ]
    }
   ],
   "source": [
    "# 측정일, 측정지역, 미세먼지, 초 미세먼지 값 출력\n",
    "for data in root.findall('body/items/item'):\n",
    "    date = data.find('dataTime').text\n",
    "    stName = data.find('stationName').text\n",
    "    pm10 = data.find('pm10Value').text\n",
    "    pm25 = data.find('pm25Value').text\n",
    "    print(date,stName,pm10,pm25)"
   ]
  },
  {
   "cell_type": "code",
   "execution_count": 9,
   "id": "bd8e286f-bd89-43a0-a810-9ec05055375b",
   "metadata": {
    "tags": []
   },
   "outputs": [
    {
     "name": "stdout",
     "output_type": "stream",
     "text": [
      "2021-11-23 12:00 구로구 38 5\n"
     ]
    }
   ],
   "source": [
    "# 특정지역의 미세먼지 정보 출력\n",
    "gu = '구로구'\n",
    "\n",
    "for data in root.findall('body/items/item'):\n",
    "    if (data.find('stationName').text == gu):\n",
    "        date = data.find('dataTime').text\n",
    "        stName = data.find('stationName').text\n",
    "        pm10 = data.find('pm10Value').text\n",
    "        pm25 = data.find('pm25Value').text\n",
    "        print(date,stName,pm10,pm25)"
   ]
  },
  {
   "cell_type": "code",
   "execution_count": 10,
   "id": "7148648c-2004-4340-99c1-3af72c49e895",
   "metadata": {},
   "outputs": [],
   "source": [
    "# 대기정보 수치에 따른 품질 평가\n",
    "# 좋음😍 보통😄 나쁨🤨 최악😱\n",
    "def rate_pm10(val):\n",
    "    rate = '😱'\n",
    "    if (val <= 30) : rate = '😍'\n",
    "    elif (val <= 80) : rate = '😄'\n",
    "    elif (val <= 150) : rate = '🤨'\n",
    "    return rate\n",
    "\n",
    "def rate_pm25(val):\n",
    "    rate = '😱'\n",
    "    if (val <= 15) : rate = '😍'\n",
    "    elif (val <= 35) : rate = '😄'\n",
    "    elif (val <= 75) : rate = '🤨'\n",
    "    return rate"
   ]
  },
  {
   "cell_type": "code",
   "execution_count": 11,
   "id": "62238c92-aa75-465d-9aad-86ee0e06abed",
   "metadata": {},
   "outputs": [
    {
     "name": "stdout",
     "output_type": "stream",
     "text": [
      "2021-11-23 12:00 구로구 38 😄 5 😍\n"
     ]
    }
   ],
   "source": [
    "# 특정지역의 미세먼지 이모지 출력\n",
    "for data in root.findall('body/items/item'):\n",
    "    if (data.find('stationName').text == gu):\n",
    "        date = data.find('dataTime').text\n",
    "        stName = data.find('stationName').text\n",
    "        pm10 = data.find('pm10Value').text\n",
    "        pm25 = data.find('pm25Value').text\n",
    "        p10 = rate_pm10(int(pm10))\n",
    "        p25 = rate_pm25(int(pm25))\n",
    "        print(date,stName,pm10, p10,pm25,p25)"
   ]
  },
  {
   "cell_type": "code",
   "execution_count": 12,
   "id": "9b207d68-2bae-4b72-a061-34733d4a90ab",
   "metadata": {},
   "outputs": [],
   "source": [
    "# jspn 지정한 url로 요청해서 결과 받음\n",
    "res = req.get(url2)\n",
    "res.text[:500]\n",
    "# 받은 결과를 파일로 저장\n",
    "with open('/home/hadoop/telegram/air.json','w',encoding='UTF-8') as f:\n",
    "    f.writelines(res.text)"
   ]
  },
  {
   "cell_type": "code",
   "execution_count": 13,
   "id": "ac67409c-38cb-4545-962a-a043f8f469fd",
   "metadata": {},
   "outputs": [],
   "source": [
    "import json"
   ]
  },
  {
   "cell_type": "code",
   "execution_count": 14,
   "id": "fa38a728-7a5c-4bbb-8fd6-4a04bbd1e765",
   "metadata": {},
   "outputs": [],
   "source": [
    "# json 파일을 읽어 분석하고 객체(dict)로 저장\n",
    "with open('/home/hadoop/telegram/air.json', encoding='UTF-8') as f:\n",
    "    airdata = json.load(f)"
   ]
  },
  {
   "cell_type": "code",
   "execution_count": 15,
   "id": "2ec80aa0-f9bc-4083-aaa8-ab5c21d70ad6",
   "metadata": {
    "tags": []
   },
   "outputs": [
    {
     "name": "stdout",
     "output_type": "stream",
     "text": [
      "2021-11-23 12:00 강남구 32 8\n",
      "2021-11-23 12:00 서초구 47 9\n",
      "2021-11-23 12:00 도산대로 42 8\n",
      "2021-11-23 12:00 강남대로 39 9\n",
      "2021-11-23 12:00 송파구 38 8\n",
      "2021-11-23 12:00 강동구 36 9\n",
      "2021-11-23 12:00 천호대로 43 10\n",
      "2021-11-23 12:00 금천구 38 10\n",
      "2021-11-23 12:00 시흥대로 - -\n",
      "2021-11-23 12:00 강북구 46 11\n",
      "2021-11-23 12:00 양천구 39 11\n",
      "2021-11-23 12:00 노원구 34 6\n",
      "2021-11-23 12:00 화랑로 31 8\n",
      "2021-11-23 12:00 중구 33 9\n",
      "2021-11-23 12:00 한강대로 37 8\n",
      "2021-11-23 12:00 종로구 39 11\n",
      "2021-11-23 12:00 청계천로 35 10\n",
      "2021-11-23 12:00 종로 45 10\n",
      "2021-11-23 12:00 용산구 42 13\n",
      "2021-11-23 12:00 광진구 35 9\n",
      "2021-11-23 12:00 성동구 39 8\n",
      "2021-11-23 12:00 강변북로 44 9\n",
      "2021-11-23 12:00 중랑구 36 8\n",
      "2021-11-23 12:00 동대문구 35 9\n",
      "2021-11-23 12:00 홍릉로 40 10\n",
      "2021-11-23 12:00 성북구 38 9\n",
      "2021-11-23 12:00 정릉로 38 11\n",
      "2021-11-23 12:00 도봉구 38 7\n",
      "2021-11-23 12:00 은평구 45 10\n",
      "2021-11-23 12:00 서대문구 43 9\n",
      "2021-11-23 12:00 마포구 39 11\n",
      "2021-11-23 12:00 신촌로 33 8\n",
      "2021-11-23 12:00 강서구 39 7\n",
      "2021-11-23 12:00 공항대로 43 14\n",
      "2021-11-23 12:00 구로구 38 5\n",
      "2021-11-23 12:00 영등포구 34 8\n",
      "2021-11-23 12:00 영등포로 34 9\n",
      "2021-11-23 12:00 동작구 38 10\n",
      "2021-11-23 12:00 동작대로 중앙차로 42 21\n",
      "2021-11-23 12:00 관악구 34 9\n"
     ]
    }
   ],
   "source": [
    "# 측정일, 측정지역, 미세먼지, 초 미세먼지 값 출력\n",
    "for item in airdata['response']['body']['items']:\n",
    "    date = item['dataTime']\n",
    "    stName = item['stationName']\n",
    "    pm10 = item['pm10Value']\n",
    "    pm25 = item['pm25Value']\n",
    "    print(date,stName,pm10,pm25)"
   ]
  },
  {
   "cell_type": "code",
   "execution_count": 16,
   "id": "4feee2f8-fc21-4c0b-b149-db33796d629b",
   "metadata": {},
   "outputs": [
    {
     "name": "stdout",
     "output_type": "stream",
     "text": [
      "2021-11-23 12:00 구로구 38 😄 5 😍\n"
     ]
    }
   ],
   "source": [
    "# 특정지역의 미세먼지 이모지 출력\n",
    "for item in airdata['response']['body']['items']:\n",
    "    if (item['stationName'] == gu):\n",
    "        date = item['dataTime']\n",
    "        stName = item['stationName']\n",
    "        pm10 = item['pm10Value']\n",
    "        pm25 = item['pm25Value']\n",
    "        p10 = rate_pm10(int(pm10))\n",
    "        p25 = rate_pm25(int(pm25))\n",
    "        print(date,stName,pm10, p10,pm25,p25)"
   ]
  },
  {
   "cell_type": "code",
   "execution_count": 17,
   "id": "88877829-7851-48d1-b66e-9b95fa4b2462",
   "metadata": {},
   "outputs": [],
   "source": [
    "# 텔레그램으로 미세먼지 정보 서비스 하기\n",
    "def reload_air(): # data.go.kr 에서 대기정보 받아오기\n",
    "    res = req.get(url2)\n",
    "    with open('/home/hadoop/telegram/air.json', encoding='UTF-8') as f:\n",
    "        airdata = json.load(f)\n",
    "\n",
    "def fetch_air(gu): # 특정지역의 미세먼지 정보/이모지 받아오기\n",
    "    with open('/home/hadoop/telegram/air.json', encoding='UTF-8') as f:\n",
    "        airdata = json.load(f)\n",
    "    \n",
    "    airinfo = ''\n",
    "    for item in airdata['response']['body']['items']:\n",
    "        if (item['stationName'] == gu):\n",
    "            date = item['dataTime']\n",
    "            pm10 = item['pm10Value']\n",
    "            pm25 = item['pm25Value']\n",
    "            p10 = rate_pm10(int(pm10))\n",
    "            p25 = rate_pm25(int(pm25))\n",
    "            airinfo = f'{date} {pm10} {p10} {pm25} {p25}'\n",
    "    return airinfo"
   ]
  },
  {
   "cell_type": "code",
   "execution_count": 18,
   "id": "ba1fda89-eea4-4afc-81ad-07edc29e839c",
   "metadata": {},
   "outputs": [],
   "source": [
    "from telegram import Update\n",
    "from telegram.ext import MessageHandler\n",
    "from telegram.ext import CommandHandler\n",
    "from telegram.ext import Filters\n",
    "from telegram.ext import Updater, CallbackContext"
   ]
  },
  {
   "cell_type": "code",
   "execution_count": 21,
   "id": "2d3f759e-6148-456f-9e3c-ac5796fe7354",
   "metadata": {},
   "outputs": [
    {
     "data": {
      "text/plain": [
       "<telegram.message.Message at 0x556f6eeb6420>"
      ]
     },
     "execution_count": 21,
     "metadata": {},
     "output_type": "execute_result"
    }
   ],
   "source": [
    "# 특정 대화상대에게 메시지 보내기 테스트\n",
    "# sendMessage(대상, 메시지)\n",
    "bot.sendMessage(chat_id='2110692703', text='hello, World!')"
   ]
  },
  {
   "cell_type": "code",
   "execution_count": 22,
   "id": "52832e23-edda-404e-a2df-7e08f1ba20ed",
   "metadata": {},
   "outputs": [],
   "source": [
    "# 대기정보 출력\n",
    "def air_message(update, context):\n",
    "    airinfo = fetch_air(update.message.text)\n",
    "    context.bot.send_message(update.effective_chat.id, airinfo)"
   ]
  },
  {
   "cell_type": "code",
   "execution_count": 23,
   "id": "e0e3b77a-c6cd-4fe8-8462-30fbc60c7d97",
   "metadata": {},
   "outputs": [],
   "source": [
    "# 대기정보 갱신\n",
    "def reload_message(update, context):\n",
    "    reload_air()\n",
    "    context.bot.send_message(update.effective_chat.id, '대기정보 갱신됨!!')"
   ]
  },
  {
   "cell_type": "code",
   "execution_count": 24,
   "id": "856f2160-84d1-4508-b986-91371ee08ad0",
   "metadata": {},
   "outputs": [],
   "source": [
    "# 텔레그램 챗봇 서버 초기화\n",
    "updater = Updater(token)\n",
    "\n",
    "# 핸들러 생성\n",
    "air_handler = MessageHandler(Filters.text, air_message)\n",
    "reload_handler = CommandHandler('reload', reload_message)\n",
    "\n",
    "# 핸들러 등록\n",
    "updater.dispatcher.add_handler(reload_handler)\n",
    "updater.dispatcher.add_handler(air_handler)"
   ]
  },
  {
   "cell_type": "code",
   "execution_count": 27,
   "id": "1b654fcf-a047-412b-a603-0875e5242467",
   "metadata": {},
   "outputs": [
    {
     "name": "stdout",
     "output_type": "stream",
     "text": [
      "텔레그램 대기정보 RPA 서버 실행중...\n"
     ]
    },
    {
     "name": "stderr",
     "output_type": "stream",
     "text": [
      "/opt/miniconda3/lib/python3.7/site-packages/ipykernel_launcher.py:3: TelegramDeprecationWarning: The argument `clean` of `start_polling` is deprecated. Please use `drop_pending_updates` instead.\n",
      "  This is separate from the ipykernel package so we can avoid doing imports until\n"
     ]
    }
   ],
   "source": [
    "# 텔레그램 챗봇 서버 시작\n",
    "print('텔레그램 대기정보 RPA 서버 실행중...')\n",
    "updater.start_polling(timeout=3, clean=True)\n",
    "updater.idle()\n",
    "# 텔레그램 구동 -> /reload -> 구이름"
   ]
  },
  {
   "cell_type": "code",
   "execution_count": null,
   "id": "696fa905-d833-4b23-aa6f-06448530afa3",
   "metadata": {},
   "outputs": [],
   "source": []
  },
  {
   "cell_type": "code",
   "execution_count": null,
   "id": "22f1c687-4358-42f0-b063-f2c4b1dc3465",
   "metadata": {},
   "outputs": [],
   "source": []
  },
  {
   "cell_type": "code",
   "execution_count": null,
   "id": "e6e7be5f-1665-48c3-89ef-83efba0536ef",
   "metadata": {},
   "outputs": [],
   "source": []
  },
  {
   "cell_type": "code",
   "execution_count": null,
   "id": "1d20b67e-6967-411c-9f01-67f78c580ef5",
   "metadata": {},
   "outputs": [],
   "source": []
  }
 ],
 "metadata": {
  "kernelspec": {
   "display_name": "Python 3 (ipykernel)",
   "language": "python",
   "name": "python3"
  },
  "language_info": {
   "codemirror_mode": {
    "name": "ipython",
    "version": 3
   },
   "file_extension": ".py",
   "mimetype": "text/x-python",
   "name": "python",
   "nbconvert_exporter": "python",
   "pygments_lexer": "ipython3",
   "version": "3.7.10"
  }
 },
 "nbformat": 4,
 "nbformat_minor": 5
}
