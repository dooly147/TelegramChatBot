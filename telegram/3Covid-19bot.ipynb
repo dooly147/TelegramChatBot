{
 "cells": [
  {
   "cell_type": "code",
   "execution_count": 1,
   "id": "e26dc258-9b8d-4f6d-b13c-3a25347a91bd",
   "metadata": {},
   "outputs": [],
   "source": [
    "import telegram\n",
    "import requests as req\n",
    "import json\n",
    "import xml.etree.ElementTree as et"
   ]
  },
  {
   "cell_type": "code",
   "execution_count": 2,
   "id": "d1c8d312-7e54-4966-b61e-29dfd9f8f7ee",
   "metadata": {},
   "outputs": [],
   "source": [
    "# 텔레그램 인증키 등록\n",
    "token = '2131981568:AAEeNzscHJkDMPHKd59X9tCvd-0UNckUx6c'"
   ]
  },
  {
   "cell_type": "code",
   "execution_count": 3,
   "id": "1fd284b1-0bb2-4481-8a4b-86acbf0043d9",
   "metadata": {},
   "outputs": [],
   "source": [
    "bot = telegram.Bot(token=token)"
   ]
  },
  {
   "cell_type": "code",
   "execution_count": 4,
   "id": "40817bb2-2fea-45cc-ba9d-d16c31e9d0e0",
   "metadata": {},
   "outputs": [],
   "source": [
    "from telegram import Update\n",
    "from telegram.ext import MessageHandler\n",
    "from telegram.ext import CommandHandler\n",
    "from telegram.ext import Filters\n",
    "from telegram.ext import Updater, CallbackContext"
   ]
  },
  {
   "cell_type": "markdown",
   "id": "cd2c96e8-0984-4bc6-a0e0-b25ebf2f7afa",
   "metadata": {},
   "source": [
    "### 코로나 시도별 발생현황 살펴보기\n",
    "* 시도를 입력하면 \"확진자수, 격리중 환자수, 해외유입 수, 전일대비 증감 수, 격리 해제 수\"등을 출력함 "
   ]
  },
  {
   "cell_type": "code",
   "execution_count": 5,
   "id": "a948510d-0bfd-40bc-b480-9c5ab5e14ab2",
   "metadata": {},
   "outputs": [],
   "source": [
    "url = 'http://openapi.data.go.kr/openapi/service/rest/Covid19/getCovid19SidoInfStateJson?serviceKey=%2BpJJikYO7sLu5IRIGSVwrRhI2csJLgnXqbiIJsxf6n2g8HQ7IZwYWfBdGUhI5pclA093YhJpUyLroFhTYVfL8g%3D%3D&pageNo=1&numOfRows=10&startCreateDt=20200410&endCreateDt=20211123'"
   ]
  },
  {
   "cell_type": "code",
   "execution_count": 6,
   "id": "40ea5bd6-3cee-4dbb-857c-9ca900e2c446",
   "metadata": {},
   "outputs": [
    {
     "data": {
      "text/plain": [
       "'<?xml version=\"1.0\" encoding=\"UTF-8\" standalone=\"yes\"?><response><header><resultCode>00</resultCode><resultMsg>NORMAL SERVICE.</resultMsg></header><body><items><item><createDt>2021-11-23 08:57:17.931</createDt><deathCnt>16</deathCnt><defCnt>6407</defCnt><gubun>검역</gubun><gubunCn>隔離區</gubunCn><gubunEn>Lazaretto</gubunEn><incDec>1</incDec><isolClearCnt>6253</isolClearCnt><isolIngCnt>138</isolIngCnt><localOccCnt>0</localOccCnt><overFlowCnt>1</overFlowCnt><qurRate>-</qurRate><seq>13461</seq><stdDay>'"
      ]
     },
     "execution_count": 6,
     "metadata": {},
     "output_type": "execute_result"
    }
   ],
   "source": [
    "res = req.get(url)\n",
    "res.text[:500]"
   ]
  },
  {
   "cell_type": "code",
   "execution_count": 7,
   "id": "e6a3dd9a-7791-4057-ad41-96c5409d4429",
   "metadata": {},
   "outputs": [],
   "source": [
    "# 받은 결과를 파일로 저장\n",
    "with open('/home/hadoop/telegram/covid.xml','w',encoding='UTF-8') as f:\n",
    "    f.writelines(res.text)"
   ]
  },
  {
   "cell_type": "code",
   "execution_count": 8,
   "id": "a56d7bc9-8b2a-480f-af55-4d32cffdd728",
   "metadata": {},
   "outputs": [],
   "source": [
    "# xml 파일 읽어 XML 분석하고 DOM 트리를 구축함\n",
    "tree = et.parse('/home/hadoop/telegram/covid.xml')\n",
    "root = tree.getroot()"
   ]
  },
  {
   "cell_type": "code",
   "execution_count": 9,
   "id": "a16cae87-f161-4220-82e8-01f254453cfc",
   "metadata": {},
   "outputs": [],
   "source": [
    "# # gu = '서울'\n",
    "# for data in root.findall('body/items/item'):\n",
    "#     # if (data.find('gubun').text == gu):\n",
    "#         날짜 = data.find('createDt').text\n",
    "#         지역 = data.find('gubun').text\n",
    "#         확진자수 = data.find('defCnt').text\n",
    "#         격리중환자수 = data.find('isolIngCnt').text\n",
    "#         해외유입수 = data.find('overFlowCnt').text\n",
    "#         전일대비 = data.find('incDec').text\n",
    "#         격리해제 = data.find('isolClearCnt').text\n",
    "#         print(날짜, 지역, 확진자수, 격리중환자수, 해외유입수, 전일대비,격리해제)"
   ]
  },
  {
   "cell_type": "code",
   "execution_count": 10,
   "id": "9c8cf617-9857-42f4-8dcd-889c533fe48b",
   "metadata": {},
   "outputs": [
    {
     "name": "stdout",
     "output_type": "stream",
     "text": [
      "2021-11-23 08:57:17.927 142913 17992 5 1165 123948\n",
      "2021-11-23 08:57:17.927 420950 39061 14 2699 378561\n"
     ]
    }
   ],
   "source": [
    "sd = '서울'\n",
    "cnt = 0 # 지역과 종합 코로나 정보를 출력하기 위한 \n",
    "for data in root.findall('body/items/item'):\n",
    "    if (data.find('gubun').text == sd) or \\\n",
    "    (data.find('gubun').text == '합계'):\n",
    "        날짜 = data.find('createDt').text\n",
    "        확진자수 = data.find('defCnt').text\n",
    "        격리중환자수 = data.find('isolIngCnt').text\n",
    "        해외유입수 = data.find('overFlowCnt').text\n",
    "        전일대비 = data.find('incDec').text\n",
    "        격리해제 = data.find('isolClearCnt').text\n",
    "        print(날짜, 확진자수, 격리중환자수, 해외유입수, 전일대비,격리해제)\n",
    "        cnt = cnt+1\n",
    "    if cnt == 2: break"
   ]
  },
  {
   "cell_type": "markdown",
   "id": "7e758851-7dde-4aad-8260-b9f14212486c",
   "metadata": {},
   "source": [
    "### 텔레그램과 연동햐서 코로나 정보 출력하기"
   ]
  },
  {
   "cell_type": "code",
   "execution_count": 11,
   "id": "bcafa672-47bf-47dc-983e-5a3b9e5b0184",
   "metadata": {},
   "outputs": [],
   "source": [
    "from telegram import Update\n",
    "from telegram.ext import MessageHandler\n",
    "from telegram.ext import CommandHandler\n",
    "from telegram.ext import Filters\n",
    "from telegram.ext import Updater, CallbackContext"
   ]
  },
  {
   "cell_type": "code",
   "execution_count": 13,
   "id": "ce0ae38c-fb83-46bc-96bf-6792f8f292e5",
   "metadata": {},
   "outputs": [
    {
     "data": {
      "text/plain": [
       "<telegram.message.Message at 0x559c0de76460>"
      ]
     },
     "execution_count": 13,
     "metadata": {},
     "output_type": "execute_result"
    }
   ],
   "source": [
    "# 특정 대화상대에게 메시지 보내기 테스트\n",
    "# sendMessage(대상, 메시지)\n",
    "bot.sendMessage(chat_id='2110692703', text='hello, World!')"
   ]
  },
  {
   "cell_type": "code",
   "execution_count": 14,
   "id": "1c34a8ce-82ed-44e2-bca9-feb80bef6c63",
   "metadata": {},
   "outputs": [],
   "source": [
    "# 텔레그램으로 미세먼지 정보 서비스 하기\n",
    "def reload_covid(): # data.go.kr 에서 대기정보 받아오기\n",
    "    res = req.get(url)\n",
    "    with open('/home/hadoop/telegram/covid19.xml', 'w', encoding='UTF-8') as f:\n",
    "        f.writelines(res.text)\n",
    "        \n",
    "\n",
    "def fetch_covid(sido): # 특정지역의 미세먼지 정보/이모지 받아오기\n",
    "    tree = et.parse('/home/hadoop/telegram/covid.xml')\n",
    "    root = tree.getroot()\n",
    "    \n",
    "    covidinfo = ''\n",
    "    cnt = 0  \n",
    "    for data in root.findall('body/items/item'):\n",
    "        if (data.find('gubun').text == sd) or (data.find('gubun').text == '합계'):\n",
    "            지역 = data.find('gubun').text\n",
    "            날짜 = data.find('createDt').text[:10]\n",
    "            확진자수 = data.find('defCnt').text\n",
    "            격리중환자수 = data.find('isolIngCnt').text\n",
    "            해외유입수 = data.find('overFlowCnt').text\n",
    "            전일대비 = data.find('incDec').text\n",
    "            격리해제 = data.find('isolClearCnt').text\n",
    "            covidinfo +=    f'지역 :{지역}\\n' \\\n",
    "                            f'확진자수 :{확진자수}\\n' \\\n",
    "                            f'전일대비 증감수 :{전일대비}\\n' \n",
    "            cnt = cnt+1\n",
    "        if cnt == 2: break\n",
    "    return covidinfo"
   ]
  },
  {
   "cell_type": "code",
   "execution_count": 15,
   "id": "da137c22-2a07-4b96-97d7-0407665b0514",
   "metadata": {},
   "outputs": [],
   "source": [
    "# 대기정보 출력\n",
    "def covid_message(update, context):\n",
    "    covidinfo = fetch_covid(update.message.text)\n",
    "    context.bot.send_message(update.effective_chat.id, covidinfo)"
   ]
  },
  {
   "cell_type": "code",
   "execution_count": 16,
   "id": "00bb7ff2-56fc-4f2f-84dc-617b2523c0e8",
   "metadata": {},
   "outputs": [],
   "source": [
    "# 대기정보 갱신\n",
    "def reload_message(update, context):\n",
    "    reload_covid()\n",
    "    context.bot.send_message(update.effective_chat.id, '대기정보 갱신됨!!')"
   ]
  },
  {
   "cell_type": "code",
   "execution_count": 17,
   "id": "14231529-0779-4bc1-a7bf-c809352c0996",
   "metadata": {},
   "outputs": [],
   "source": [
    "# 텔레그램 챗봇 서버 초기화\n",
    "updater = Updater(token)\n",
    "\n",
    "# 핸들러 생성\n",
    "covid_handler = MessageHandler(Filters.text, covid_message)\n",
    "reload_handler = CommandHandler('reload', reload_message)\n",
    "\n",
    "# 핸들러 등록\n",
    "updater.dispatcher.add_handler(reload_handler)\n",
    "updater.dispatcher.add_handler(covid_handler)"
   ]
  },
  {
   "cell_type": "code",
   "execution_count": null,
   "id": "8b1529a7-47de-40cd-8c7a-9c00507eb29c",
   "metadata": {},
   "outputs": [
    {
     "name": "stdout",
     "output_type": "stream",
     "text": [
      "텔레그램 대기정보 RPA 서버 실행중...\n"
     ]
    },
    {
     "name": "stderr",
     "output_type": "stream",
     "text": [
      "/opt/miniconda3/lib/python3.7/site-packages/ipykernel_launcher.py:3: TelegramDeprecationWarning: The argument `clean` of `start_polling` is deprecated. Please use `drop_pending_updates` instead.\n",
      "  This is separate from the ipykernel package so we can avoid doing imports until\n"
     ]
    }
   ],
   "source": [
    "# 텔레그램 챗봇 서버 시작\n",
    "print('텔레그램 대기정보 RPA 서버 실행중...')\n",
    "updater.start_polling(timeout=3, clean=True)\n",
    "updater.idle()\n",
    "# 텔레그램 구동 -> /reload -> 구이름"
   ]
  },
  {
   "cell_type": "code",
   "execution_count": null,
   "id": "02788488-2fc5-4608-a694-85e3671290ab",
   "metadata": {},
   "outputs": [],
   "source": []
  }
 ],
 "metadata": {
  "kernelspec": {
   "display_name": "Python 3 (ipykernel)",
   "language": "python",
   "name": "python3"
  },
  "language_info": {
   "codemirror_mode": {
    "name": "ipython",
    "version": 3
   },
   "file_extension": ".py",
   "mimetype": "text/x-python",
   "name": "python",
   "nbconvert_exporter": "python",
   "pygments_lexer": "ipython3",
   "version": "3.7.10"
  }
 },
 "nbformat": 4,
 "nbformat_minor": 5
}
